{
 "cells": [
  {
   "cell_type": "markdown",
   "metadata": {
    "collapsed": true,
    "pycharm": {
     "name": "#%% md\n"
    }
   },
   "source": [
    "### Инициализация пайплайна\n",
    "Установим библиотеки из файла requirements, kaggle api и фреймворк PyTorch"
   ]
  },
  {
   "cell_type": "code",
   "execution_count": null,
   "outputs": [],
   "source": [
    "!pip install -q -r requirements.txt\n",
    "!pip install --upgrade --force-reinstall --no-deps kaggle\n",
    "!pip install torch==1.7.1+cu101 torchvision==0.8.2+cu101 -f https://download.pytorch.org/whl/torch_stable.html#%%"
   ],
   "metadata": {
    "collapsed": false,
    "pycharm": {
     "name": "#%%\n"
    }
   }
  },
  {
   "cell_type": "markdown",
   "source": [
    "Подключим необходимые для работы библиотеки"
   ],
   "metadata": {
    "collapsed": false
   }
  },
  {
   "cell_type": "code",
   "execution_count": 1,
   "outputs": [],
   "source": [
    "import os\n",
    "import random\n",
    "import numpy as np\n",
    "import pandas as pd\n",
    "\n",
    "import cv2\n",
    "import matplotlib.pyplot as plt\n",
    "import matplotlib.pylab as pylab\n",
    "\n",
    "from sklearn.model_selection import train_test_split\n",
    "from sklearn.preprocessing import LabelEncoder\n",
    "from sklearn.metrics import accuracy_score, f1_score\n",
    "\n",
    "import torch\n",
    "import torchvision\n",
    "import albumentations\n",
    "from albumentations import pytorch as AT"
   ],
   "metadata": {
    "collapsed": false,
    "pycharm": {
     "name": "#%%\n"
    }
   }
  },
  {
   "cell_type": "markdown",
   "source": [
    "Скачаем и распакуем в папку ./data"
   ],
   "metadata": {
    "collapsed": false
   }
  },
  {
   "cell_type": "code",
   "execution_count": null,
   "outputs": [],
   "source": [
    "# !kaggle competitions download -c nornikel-ore-contamination-detection\n",
    "# !cp nornikel-ore-contamination-detection.zip ./data/nornikel-ore-contamination-detection.zip\n",
    "# os.chdir('./data/')\n",
    "# !unzip nornikel-ore-contamination-detection.zip\n",
    "# !rm -rf ./data/nornikel-ore-contamination-detection.zip\n",
    "# os.chdir('..')\n",
    "# !pwd"
   ],
   "metadata": {
    "collapsed": false,
    "pycharm": {
     "name": "#%%\n"
    }
   }
  },
  {
   "cell_type": "markdown",
   "source": [
    "Зададим параметры для корректного отображения текстов графиков,\n",
    "а также зафиксируем сиды"
   ],
   "metadata": {
    "collapsed": false,
    "pycharm": {
     "name": "#%% md\n"
    }
   }
  },
  {
   "cell_type": "code",
   "execution_count": 2,
   "outputs": [
    {
     "name": "stdout",
     "output_type": "stream",
     "text": [
      "device: cuda\n",
      "Numpy version: 1.19.5\n",
      "Pandas version: 1.3.0\n"
     ]
    },
    {
     "data": {
      "text/plain": "<torch._C.Generator at 0x7ff3a1122250>"
     },
     "execution_count": 2,
     "metadata": {},
     "output_type": "execute_result"
    }
   ],
   "source": [
    "# Убедимся, что включили GPU ускоритель\n",
    "device = \"cuda\" if torch.cuda.is_available() else \"cpu\" # ЗДЕСЬ ВАШ КОД\n",
    "print(f'device: {device}')\n",
    "\n",
    "params = {'legend.fontsize': 'x-large',\n",
    "          'figure.figsize':  (15, 5),\n",
    "          'axes.labelsize':  'x-large',\n",
    "          'axes.titlesize':  'x-large',\n",
    "          'xtick.labelsize': 'x-large',\n",
    "          'ytick.labelsize': 'x-large'}\n",
    "\n",
    "pylab.rcParams.update(params)\n",
    "\n",
    "print('Numpy version:', np.__version__)\n",
    "print('Pandas version:', pd.__version__)\n",
    "\n",
    "# Зафиксируем сиды для Python, Numpy и PyTorch\n",
    "# для воспроизводимости результатов\n",
    "random.seed(42)\n",
    "np.random.seed(42)\n",
    "torch.manual_seed(42)"
   ],
   "metadata": {
    "collapsed": false,
    "pycharm": {
     "name": "#%%\n"
    }
   }
  },
  {
   "cell_type": "code",
   "execution_count": 28,
   "outputs": [
    {
     "name": "stdout",
     "output_type": "stream",
     "text": [
      "Fri Jul 16 19:14:59 2021       \r\n",
      "+-----------------------------------------------------------------------------+\r\n",
      "| NVIDIA-SMI 455.45.01    Driver Version: 455.45.01    CUDA Version: 11.1     |\r\n",
      "|-------------------------------+----------------------+----------------------+\r\n",
      "| GPU  Name        Persistence-M| Bus-Id        Disp.A | Volatile Uncorr. ECC |\r\n",
      "| Fan  Temp  Perf  Pwr:Usage/Cap|         Memory-Usage | GPU-Util  Compute M. |\r\n",
      "|                               |                      |               MIG M. |\r\n",
      "|===============================+======================+======================|\r\n",
      "|   0  GeForce RTX 2070    On   | 00000000:0A:00.0  On |                  N/A |\r\n",
      "| 31%   46C    P0    31W / 175W |    446MiB /  7979MiB |      1%      Default |\r\n",
      "|                               |                      |                  N/A |\r\n",
      "+-------------------------------+----------------------+----------------------+\r\n",
      "                                                                               \r\n",
      "+-----------------------------------------------------------------------------+\r\n",
      "| Processes:                                                                  |\r\n",
      "|  GPU   GI   CI        PID   Type   Process name                  GPU Memory |\r\n",
      "|        ID   ID                                                   Usage      |\r\n",
      "|=============================================================================|\r\n",
      "|    0   N/A  N/A      1243      G   /usr/lib/xorg/Xorg                317MiB |\r\n",
      "|    0   N/A  N/A      1488      G   /usr/bin/gnome-shell               50MiB |\r\n",
      "|    0   N/A  N/A      1803      G   telegram-desktop                   30MiB |\r\n",
      "|    0   N/A  N/A      2061      G   /usr/lib/firefox/firefox            2MiB |\r\n",
      "|    0   N/A  N/A      2167      G   /usr/lib/firefox/firefox            2MiB |\r\n",
      "|    0   N/A  N/A      2190      G   /usr/lib/firefox/firefox            2MiB |\r\n",
      "|    0   N/A  N/A      3922      G   ...gAAAAAAAAA --shared-files       30MiB |\r\n",
      "|    0   N/A  N/A      6102      G   ...f_5737.log --shared-files        2MiB |\r\n",
      "+-----------------------------------------------------------------------------+\r\n"
     ]
    }
   ],
   "source": [
    "# Выведем информацию об используемом GPU-ускорителе\n",
    "!nvidia-smi"
   ],
   "metadata": {
    "collapsed": false,
    "pycharm": {
     "name": "#%%\n"
    }
   }
  },
  {
   "cell_type": "markdown",
   "source": [
    "### Загрузка и исследование данных"
   ],
   "metadata": {
    "collapsed": false,
    "pycharm": {
     "name": "#%% md\n"
    }
   }
  },
  {
   "cell_type": "code",
   "execution_count": 3,
   "outputs": [
    {
     "data": {
      "text/plain": "                image_name      type  xmin  xmax  ymin  ymax\n0  0007Date_01_08_2019.jpg     other   285   368    61   278\n1  0013Date_01_08_2019.jpg  armature   187   550   101   253\n2  0016Date_01_08_2019.jpg  armature   172   327    13   360\n3  0019Date_01_08_2019.jpg  armature    19   267   162   237\n4  0019Date_01_08_2019.jpg  armature   309   548   300   376",
      "text/html": "<div>\n<style scoped>\n    .dataframe tbody tr th:only-of-type {\n        vertical-align: middle;\n    }\n\n    .dataframe tbody tr th {\n        vertical-align: top;\n    }\n\n    .dataframe thead th {\n        text-align: right;\n    }\n</style>\n<table border=\"1\" class=\"dataframe\">\n  <thead>\n    <tr style=\"text-align: right;\">\n      <th></th>\n      <th>image_name</th>\n      <th>type</th>\n      <th>xmin</th>\n      <th>xmax</th>\n      <th>ymin</th>\n      <th>ymax</th>\n    </tr>\n  </thead>\n  <tbody>\n    <tr>\n      <th>0</th>\n      <td>0007Date_01_08_2019.jpg</td>\n      <td>other</td>\n      <td>285</td>\n      <td>368</td>\n      <td>61</td>\n      <td>278</td>\n    </tr>\n    <tr>\n      <th>1</th>\n      <td>0013Date_01_08_2019.jpg</td>\n      <td>armature</td>\n      <td>187</td>\n      <td>550</td>\n      <td>101</td>\n      <td>253</td>\n    </tr>\n    <tr>\n      <th>2</th>\n      <td>0016Date_01_08_2019.jpg</td>\n      <td>armature</td>\n      <td>172</td>\n      <td>327</td>\n      <td>13</td>\n      <td>360</td>\n    </tr>\n    <tr>\n      <th>3</th>\n      <td>0019Date_01_08_2019.jpg</td>\n      <td>armature</td>\n      <td>19</td>\n      <td>267</td>\n      <td>162</td>\n      <td>237</td>\n    </tr>\n    <tr>\n      <th>4</th>\n      <td>0019Date_01_08_2019.jpg</td>\n      <td>armature</td>\n      <td>309</td>\n      <td>548</td>\n      <td>300</td>\n      <td>376</td>\n    </tr>\n  </tbody>\n</table>\n</div>"
     },
     "execution_count": 3,
     "metadata": {},
     "output_type": "execute_result"
    }
   ],
   "source": [
    "train_df = pd.read_csv('data/train.csv', index_col=0)\n",
    "train_df.head()"
   ],
   "metadata": {
    "collapsed": false,
    "pycharm": {
     "name": "#%%\n"
    }
   }
  },
  {
   "cell_type": "code",
   "execution_count": 33,
   "outputs": [
    {
     "data": {
      "text/plain": "              xmin         xmax         ymin         ymax\ncount  2541.000000  2541.000000  2541.000000  2541.000000\nmean    192.623377   421.927194   101.252656   319.252263\nstd     142.564916   155.507596    94.012065    89.880843\nmin       0.000000    33.000000     0.000000    48.000000\n25%     102.000000   302.000000    14.000000   262.000000\n50%     152.000000   410.000000    79.000000   341.000000\n75%     262.000000   543.000000   167.000000   397.000000\nmax     672.000000   704.000000   394.000000   421.000000",
      "text/html": "<div>\n<style scoped>\n    .dataframe tbody tr th:only-of-type {\n        vertical-align: middle;\n    }\n\n    .dataframe tbody tr th {\n        vertical-align: top;\n    }\n\n    .dataframe thead th {\n        text-align: right;\n    }\n</style>\n<table border=\"1\" class=\"dataframe\">\n  <thead>\n    <tr style=\"text-align: right;\">\n      <th></th>\n      <th>xmin</th>\n      <th>xmax</th>\n      <th>ymin</th>\n      <th>ymax</th>\n    </tr>\n  </thead>\n  <tbody>\n    <tr>\n      <th>count</th>\n      <td>2541.000000</td>\n      <td>2541.000000</td>\n      <td>2541.000000</td>\n      <td>2541.000000</td>\n    </tr>\n    <tr>\n      <th>mean</th>\n      <td>192.623377</td>\n      <td>421.927194</td>\n      <td>101.252656</td>\n      <td>319.252263</td>\n    </tr>\n    <tr>\n      <th>std</th>\n      <td>142.564916</td>\n      <td>155.507596</td>\n      <td>94.012065</td>\n      <td>89.880843</td>\n    </tr>\n    <tr>\n      <th>min</th>\n      <td>0.000000</td>\n      <td>33.000000</td>\n      <td>0.000000</td>\n      <td>48.000000</td>\n    </tr>\n    <tr>\n      <th>25%</th>\n      <td>102.000000</td>\n      <td>302.000000</td>\n      <td>14.000000</td>\n      <td>262.000000</td>\n    </tr>\n    <tr>\n      <th>50%</th>\n      <td>152.000000</td>\n      <td>410.000000</td>\n      <td>79.000000</td>\n      <td>341.000000</td>\n    </tr>\n    <tr>\n      <th>75%</th>\n      <td>262.000000</td>\n      <td>543.000000</td>\n      <td>167.000000</td>\n      <td>397.000000</td>\n    </tr>\n    <tr>\n      <th>max</th>\n      <td>672.000000</td>\n      <td>704.000000</td>\n      <td>394.000000</td>\n      <td>421.000000</td>\n    </tr>\n  </tbody>\n</table>\n</div>"
     },
     "execution_count": 33,
     "metadata": {},
     "output_type": "execute_result"
    }
   ],
   "source": [
    "# Посмотрим на стандартные статистические параметры данных\n",
    "train_df.describe()"
   ],
   "metadata": {
    "collapsed": false,
    "pycharm": {
     "name": "#%%\n"
    }
   }
  },
  {
   "cell_type": "code",
   "execution_count": 4,
   "outputs": [
    {
     "data": {
      "text/plain": "{'other': 0, 'armature': 1, 'wood': 2}"
     },
     "execution_count": 4,
     "metadata": {},
     "output_type": "execute_result"
    }
   ],
   "source": [
    "classes = train_df['type'].unique().tolist()\n",
    "\n",
    "CLASS_TYPES = dict([(type, i) for i, type in enumerate(classes)])\n",
    "CLASS_TYPES"
   ],
   "metadata": {
    "collapsed": false,
    "pycharm": {
     "name": "#%%\n"
    }
   }
  },
  {
   "cell_type": "markdown",
   "source": [
    "Необходимо разделить данные на train/val/test части, для этого воспользуемся\n",
    "методом train_test_split из библиотеки sklearn"
   ],
   "metadata": {
    "collapsed": false,
    "pycharm": {
     "name": "#%% md\n"
    }
   }
  },
  {
   "cell_type": "code",
   "execution_count": 5,
   "outputs": [
    {
     "data": {
      "text/plain": "                image_name  xmin  xmax  ymin  ymax\n0  0007Date_01_08_2019.jpg   285   368    61   278\n1  0013Date_01_08_2019.jpg   187   550   101   253\n2  0016Date_01_08_2019.jpg   172   327    13   360",
      "text/html": "<div>\n<style scoped>\n    .dataframe tbody tr th:only-of-type {\n        vertical-align: middle;\n    }\n\n    .dataframe tbody tr th {\n        vertical-align: top;\n    }\n\n    .dataframe thead th {\n        text-align: right;\n    }\n</style>\n<table border=\"1\" class=\"dataframe\">\n  <thead>\n    <tr style=\"text-align: right;\">\n      <th></th>\n      <th>image_name</th>\n      <th>xmin</th>\n      <th>xmax</th>\n      <th>ymin</th>\n      <th>ymax</th>\n    </tr>\n  </thead>\n  <tbody>\n    <tr>\n      <th>0</th>\n      <td>0007Date_01_08_2019.jpg</td>\n      <td>285</td>\n      <td>368</td>\n      <td>61</td>\n      <td>278</td>\n    </tr>\n    <tr>\n      <th>1</th>\n      <td>0013Date_01_08_2019.jpg</td>\n      <td>187</td>\n      <td>550</td>\n      <td>101</td>\n      <td>253</td>\n    </tr>\n    <tr>\n      <th>2</th>\n      <td>0016Date_01_08_2019.jpg</td>\n      <td>172</td>\n      <td>327</td>\n      <td>13</td>\n      <td>360</td>\n    </tr>\n  </tbody>\n</table>\n</div>"
     },
     "execution_count": 5,
     "metadata": {},
     "output_type": "execute_result"
    }
   ],
   "source": [
    "X = train_df.drop(['type'], axis=1)\n",
    "X.head(3)"
   ],
   "metadata": {
    "collapsed": false,
    "pycharm": {
     "name": "#%%\n"
    }
   }
  },
  {
   "cell_type": "code",
   "execution_count": 6,
   "outputs": [
    {
     "data": {
      "text/plain": "       type\n0     other\n1  armature\n2  armature",
      "text/html": "<div>\n<style scoped>\n    .dataframe tbody tr th:only-of-type {\n        vertical-align: middle;\n    }\n\n    .dataframe tbody tr th {\n        vertical-align: top;\n    }\n\n    .dataframe thead th {\n        text-align: right;\n    }\n</style>\n<table border=\"1\" class=\"dataframe\">\n  <thead>\n    <tr style=\"text-align: right;\">\n      <th></th>\n      <th>type</th>\n    </tr>\n  </thead>\n  <tbody>\n    <tr>\n      <th>0</th>\n      <td>other</td>\n    </tr>\n    <tr>\n      <th>1</th>\n      <td>armature</td>\n    </tr>\n    <tr>\n      <th>2</th>\n      <td>armature</td>\n    </tr>\n  </tbody>\n</table>\n</div>"
     },
     "execution_count": 6,
     "metadata": {},
     "output_type": "execute_result"
    }
   ],
   "source": [
    "y = train_df.drop(['image_name', 'xmin', 'xmax', 'ymin', 'ymax'], axis=1)\n",
    "y.head(3)"
   ],
   "metadata": {
    "collapsed": false,
    "pycharm": {
     "name": "#%%\n"
    }
   }
  },
  {
   "cell_type": "code",
   "execution_count": 7,
   "outputs": [
    {
     "data": {
      "text/plain": "                   image_name      type  xmin  xmax  ymin  ymax\n0     0007Date_01_08_2019.jpg     other   285   368    61   278\n1     0013Date_01_08_2019.jpg  armature   187   550   101   253\n2     0016Date_01_08_2019.jpg  armature   172   327    13   360\n3     0019Date_01_08_2019.jpg  armature    19   267   162   237\n4     0019Date_01_08_2019.jpg  armature   309   548   300   376\n...                       ...       ...   ...   ...   ...   ...\n2536  9954Date_05_08_2019.jpg  armature    83   228   229   269\n2537  9965Date_05_08_2019.jpg  armature   152   287     0   403\n2538  9975Date_05_08_2019.jpg  armature   229   324   214   369\n2539  9991Date_05_08_2019.jpg  armature   193   358     3   421\n2540  9997Date_05_08_2019.jpg  armature   163   299   321   367\n\n[2541 rows x 6 columns]",
      "text/html": "<div>\n<style scoped>\n    .dataframe tbody tr th:only-of-type {\n        vertical-align: middle;\n    }\n\n    .dataframe tbody tr th {\n        vertical-align: top;\n    }\n\n    .dataframe thead th {\n        text-align: right;\n    }\n</style>\n<table border=\"1\" class=\"dataframe\">\n  <thead>\n    <tr style=\"text-align: right;\">\n      <th></th>\n      <th>image_name</th>\n      <th>type</th>\n      <th>xmin</th>\n      <th>xmax</th>\n      <th>ymin</th>\n      <th>ymax</th>\n    </tr>\n  </thead>\n  <tbody>\n    <tr>\n      <th>0</th>\n      <td>0007Date_01_08_2019.jpg</td>\n      <td>other</td>\n      <td>285</td>\n      <td>368</td>\n      <td>61</td>\n      <td>278</td>\n    </tr>\n    <tr>\n      <th>1</th>\n      <td>0013Date_01_08_2019.jpg</td>\n      <td>armature</td>\n      <td>187</td>\n      <td>550</td>\n      <td>101</td>\n      <td>253</td>\n    </tr>\n    <tr>\n      <th>2</th>\n      <td>0016Date_01_08_2019.jpg</td>\n      <td>armature</td>\n      <td>172</td>\n      <td>327</td>\n      <td>13</td>\n      <td>360</td>\n    </tr>\n    <tr>\n      <th>3</th>\n      <td>0019Date_01_08_2019.jpg</td>\n      <td>armature</td>\n      <td>19</td>\n      <td>267</td>\n      <td>162</td>\n      <td>237</td>\n    </tr>\n    <tr>\n      <th>4</th>\n      <td>0019Date_01_08_2019.jpg</td>\n      <td>armature</td>\n      <td>309</td>\n      <td>548</td>\n      <td>300</td>\n      <td>376</td>\n    </tr>\n    <tr>\n      <th>...</th>\n      <td>...</td>\n      <td>...</td>\n      <td>...</td>\n      <td>...</td>\n      <td>...</td>\n      <td>...</td>\n    </tr>\n    <tr>\n      <th>2536</th>\n      <td>9954Date_05_08_2019.jpg</td>\n      <td>armature</td>\n      <td>83</td>\n      <td>228</td>\n      <td>229</td>\n      <td>269</td>\n    </tr>\n    <tr>\n      <th>2537</th>\n      <td>9965Date_05_08_2019.jpg</td>\n      <td>armature</td>\n      <td>152</td>\n      <td>287</td>\n      <td>0</td>\n      <td>403</td>\n    </tr>\n    <tr>\n      <th>2538</th>\n      <td>9975Date_05_08_2019.jpg</td>\n      <td>armature</td>\n      <td>229</td>\n      <td>324</td>\n      <td>214</td>\n      <td>369</td>\n    </tr>\n    <tr>\n      <th>2539</th>\n      <td>9991Date_05_08_2019.jpg</td>\n      <td>armature</td>\n      <td>193</td>\n      <td>358</td>\n      <td>3</td>\n      <td>421</td>\n    </tr>\n    <tr>\n      <th>2540</th>\n      <td>9997Date_05_08_2019.jpg</td>\n      <td>armature</td>\n      <td>163</td>\n      <td>299</td>\n      <td>321</td>\n      <td>367</td>\n    </tr>\n  </tbody>\n</table>\n<p>2541 rows × 6 columns</p>\n</div>"
     },
     "execution_count": 7,
     "metadata": {},
     "output_type": "execute_result"
    }
   ],
   "source": [
    "train_df"
   ],
   "metadata": {
    "collapsed": false,
    "pycharm": {
     "name": "#%%\n"
    }
   }
  },
  {
   "cell_type": "code",
   "execution_count": 78,
   "outputs": [
    {
     "data": {
      "text/plain": "                    image_name      type  xmin  xmax  ymin  ymax\n2010   6055Date_03_08_2019.jpg  armature    26    59   202   350\n2181   7499Date_04_08_2019.jpg  armature   141   465    14   283\n956    1754Date_02_08_2019.jpg  armature   226   666   189   416\n853   14453Date_06_08_2019.jpg  armature   550   692    61   420\n925    1511Date_02_08_2019.jpg  armature   106   214    11   182\n...                        ...       ...   ...   ...   ...   ...\n36     0109Date_01_08_2019.jpg  armature   191   270   111   244\n1413  33930Date_14_08_2019.jpg  armature   139   588    29   326\n776   14005Date_06_08_2019.jpg  armature    34   442   187   305\n460   12285Date_05_08_2019.jpg  armature   125   494     1   328\n1800   4231Date_03_08_2019.jpg  armature   256   301    42   353\n\n[763 rows x 6 columns]",
      "text/html": "<div>\n<style scoped>\n    .dataframe tbody tr th:only-of-type {\n        vertical-align: middle;\n    }\n\n    .dataframe tbody tr th {\n        vertical-align: top;\n    }\n\n    .dataframe thead th {\n        text-align: right;\n    }\n</style>\n<table border=\"1\" class=\"dataframe\">\n  <thead>\n    <tr style=\"text-align: right;\">\n      <th></th>\n      <th>image_name</th>\n      <th>type</th>\n      <th>xmin</th>\n      <th>xmax</th>\n      <th>ymin</th>\n      <th>ymax</th>\n    </tr>\n  </thead>\n  <tbody>\n    <tr>\n      <th>2010</th>\n      <td>6055Date_03_08_2019.jpg</td>\n      <td>armature</td>\n      <td>26</td>\n      <td>59</td>\n      <td>202</td>\n      <td>350</td>\n    </tr>\n    <tr>\n      <th>2181</th>\n      <td>7499Date_04_08_2019.jpg</td>\n      <td>armature</td>\n      <td>141</td>\n      <td>465</td>\n      <td>14</td>\n      <td>283</td>\n    </tr>\n    <tr>\n      <th>956</th>\n      <td>1754Date_02_08_2019.jpg</td>\n      <td>armature</td>\n      <td>226</td>\n      <td>666</td>\n      <td>189</td>\n      <td>416</td>\n    </tr>\n    <tr>\n      <th>853</th>\n      <td>14453Date_06_08_2019.jpg</td>\n      <td>armature</td>\n      <td>550</td>\n      <td>692</td>\n      <td>61</td>\n      <td>420</td>\n    </tr>\n    <tr>\n      <th>925</th>\n      <td>1511Date_02_08_2019.jpg</td>\n      <td>armature</td>\n      <td>106</td>\n      <td>214</td>\n      <td>11</td>\n      <td>182</td>\n    </tr>\n    <tr>\n      <th>...</th>\n      <td>...</td>\n      <td>...</td>\n      <td>...</td>\n      <td>...</td>\n      <td>...</td>\n      <td>...</td>\n    </tr>\n    <tr>\n      <th>36</th>\n      <td>0109Date_01_08_2019.jpg</td>\n      <td>armature</td>\n      <td>191</td>\n      <td>270</td>\n      <td>111</td>\n      <td>244</td>\n    </tr>\n    <tr>\n      <th>1413</th>\n      <td>33930Date_14_08_2019.jpg</td>\n      <td>armature</td>\n      <td>139</td>\n      <td>588</td>\n      <td>29</td>\n      <td>326</td>\n    </tr>\n    <tr>\n      <th>776</th>\n      <td>14005Date_06_08_2019.jpg</td>\n      <td>armature</td>\n      <td>34</td>\n      <td>442</td>\n      <td>187</td>\n      <td>305</td>\n    </tr>\n    <tr>\n      <th>460</th>\n      <td>12285Date_05_08_2019.jpg</td>\n      <td>armature</td>\n      <td>125</td>\n      <td>494</td>\n      <td>1</td>\n      <td>328</td>\n    </tr>\n    <tr>\n      <th>1800</th>\n      <td>4231Date_03_08_2019.jpg</td>\n      <td>armature</td>\n      <td>256</td>\n      <td>301</td>\n      <td>42</td>\n      <td>353</td>\n    </tr>\n  </tbody>\n</table>\n<p>763 rows × 6 columns</p>\n</div>"
     },
     "execution_count": 78,
     "metadata": {},
     "output_type": "execute_result"
    }
   ],
   "source": [
    "# X_train, X_test, y_train, y_test = train_test_split(train_df,\n",
    "#                                                     train_df['type'],\n",
    "#                                                     test_size=0.3,\n",
    "#                                                     random_state=42,\n",
    "#                                                     stratify=y,\n",
    "#                                                     shuffle=True)\n",
    "#\n",
    "#\n",
    "# X_test, X_val, y_test, y_val = train_test_split(X_test,\n",
    "#                                                 X_test['type'],\n",
    "#                                                 test_size=0.5,\n",
    "#                                                 random_state=42,\n",
    "#                                                 stratify=y_test,\n",
    "#                                                 shuffle=True)"
   ],
   "metadata": {
    "collapsed": false,
    "pycharm": {
     "name": "#%%\n"
    }
   }
  },
  {
   "cell_type": "code",
   "execution_count": 10,
   "outputs": [],
   "source": [
    "X_train = pd.read_csv('data/X_train.csv', index_col=0)\n",
    "X_test = pd.read_csv('data/X_test.csv', index_col=0)\n",
    "X_val = pd.read_csv('data/X_val.csv', index_col=0)\n"
   ],
   "metadata": {
    "collapsed": false,
    "pycharm": {
     "name": "#%%\n"
    }
   }
  },
  {
   "cell_type": "code",
   "execution_count": 11,
   "outputs": [
    {
     "name": "stdout",
     "output_type": "stream",
     "text": [
      "Обучающая выборка:\n",
      "armature    0.831271\n",
      "wood        0.129921\n",
      "other       0.038808\n",
      "Name: type, dtype: float64\n",
      "Тестовая выборка:\n",
      "armature    0.831579\n",
      "wood        0.126316\n",
      "other       0.042105\n",
      "Name: type, dtype: float64\n",
      "Валидационная выборка:\n",
      "armature    0.832461\n",
      "wood        0.130890\n",
      "other       0.036649\n",
      "Name: type, dtype: float64\n"
     ]
    }
   ],
   "source": [
    "# Посмотрии на распределение по классам для получившихся наборов данных\n",
    "print('Обучающая выборка:')\n",
    "print(X_train['type'].value_counts(normalize=True))\n",
    "X_train.to_csv('./data/X_train.csv')\n",
    "\n",
    "print('Тестовая выборка:')\n",
    "print(X_test['type'].value_counts(normalize=True))\n",
    "X_test.to_csv('./data/X_test.csv')\n",
    "\n",
    "print('Валидационная выборка:')\n",
    "print(X_val['type'].value_counts(normalize=True))\n",
    "X_val.to_csv('./data/X_val.csv')"
   ],
   "metadata": {
    "collapsed": false,
    "pycharm": {
     "name": "#%%\n"
    }
   }
  },
  {
   "cell_type": "markdown",
   "source": [
    "### Посмотим на сами изображения"
   ],
   "metadata": {
    "collapsed": false,
    "pycharm": {
     "name": "#%% md\n"
    }
   }
  },
  {
   "cell_type": "code",
   "execution_count": 22,
   "outputs": [
    {
     "name": "stdout",
     "output_type": "stream",
     "text": [
      "Количество изображений обучающей выборки: 3837\n"
     ]
    }
   ],
   "source": [
    "import shutil\n",
    "\n",
    "images_path = os.path.join(os.getcwd(), 'data', 'images', 'all_images')\n",
    "print(f'Количество изображений обучающей выборки: {len(os.listdir(images_path))}')\n",
    "\n",
    "# labels_path = os.path.join(os.getcwd(), 'data', 'labels')\n",
    "# if not os.path.exists(labels_path):\n",
    "#     os.makedirs(labels_path)\n",
    "# else:\n",
    "#     shutil.rmtree(labels_path)\n",
    "\n",
    "def convert_df_into_labels(df_subsample: pd.DataFrame, subsample: str) -> None:\n",
    "    \"\"\"\n",
    "\n",
    "    :param df_subsample:    Pandas df of subsample for converting to labels\n",
    "    :return:                None\n",
    "    \"\"\"\n",
    "    # Create folders for subsamples\n",
    "    subsample_folder = os.path.join(os.getcwd(), 'data', 'images')\n",
    "    subsample_images_path = os.path.join(subsample_folder, 'images', subsample)\n",
    "    subsample_labels_path = os.path.join(subsample_folder, 'labels', subsample)\n",
    "    for folder in subsample_images_path, subsample_labels_path:\n",
    "        if not os.path.exists(folder):\n",
    "            os.makedirs(folder)\n",
    "    if os.path.exists(os.path.join(subsample_folder, f'{subsample}.txt')):\n",
    "        os.remove(os.path.join(subsample_folder, f'{subsample}.txt'))\n",
    "    for index, row in df_subsample.iterrows():\n",
    "        # Get object params from dataframe\n",
    "        image_name = row['image_name']\n",
    "        type = row['type']\n",
    "        xmin = row['xmin']\n",
    "        xmax = row['xmax']\n",
    "        ymin = row['ymin']\n",
    "        ymax = row['ymax']\n",
    "        # Open image and chech iamge size\n",
    "        image_path = os.path.join(images_path, image_name)\n",
    "        image = cv2.imread(image_path)\n",
    "        image = cv2.cvtColor(image, cv2.COLOR_BGR2RGB)\n",
    "        image_height, image_width = image.shape[:2]\n",
    "        # Calculate and normalize object parameters\n",
    "        class_num = CLASS_TYPES[type]\n",
    "        object_x_center = (xmin + (xmax - xmin) / 2) / image_width\n",
    "        object_y_center = (ymin + (ymax - ymin) / 2) / image_height\n",
    "        object_width = (xmax - xmin) / image_width\n",
    "        object_height = (ymax - ymin) / image_height\n",
    "        # Get image filename and save label\n",
    "        label_name = f\"{image_name.split('.')[0]}.txt\"\n",
    "        with open(os.path.join(subsample_labels_path, label_name), \"a\") as file:\n",
    "            # Classname X Y Width Height\n",
    "            file.write(f\"{class_num} {object_x_center} {object_y_center} {object_width} {object_height}\\n\")\n",
    "        # Copy image to subsample folder\n",
    "        cv2.imwrite(os.path.join(subsample_images_path, image_name), image)\n",
    "        # Save subsamples image names in .txt files\n",
    "        with open(os.path.join(subsample_folder, f'{subsample}.txt'), \"a\") as file:\n",
    "            # Classname X Y Width Height\n",
    "            file.write(f'./images/{subsample}/{image_name}\\n')\n",
    "\n",
    "convert_df_into_labels(X_train, subsample='train')\n",
    "convert_df_into_labels(X_test, subsample='valid')\n",
    "convert_df_into_labels(X_val, subsample='test')"
   ],
   "metadata": {
    "collapsed": false,
    "pycharm": {
     "name": "#%%\n"
    }
   }
  },
  {
   "cell_type": "code",
   "execution_count": null,
   "outputs": [],
   "source": [
    "X_train['image_name'].value_counts()"
   ],
   "metadata": {
    "collapsed": false,
    "pycharm": {
     "name": "#%%\n"
    }
   }
  },
  {
   "cell_type": "code",
   "execution_count": null,
   "outputs": [],
   "source": [],
   "metadata": {
    "collapsed": false,
    "pycharm": {
     "name": "#%%\n"
    }
   }
  },
  {
   "cell_type": "code",
   "execution_count": null,
   "outputs": [],
   "source": [],
   "metadata": {
    "collapsed": false,
    "pycharm": {
     "name": "#%%\n"
    }
   }
  },
  {
   "cell_type": "code",
   "execution_count": null,
   "outputs": [],
   "source": [],
   "metadata": {
    "collapsed": false,
    "pycharm": {
     "name": "#%%\n"
    }
   }
  },
  {
   "cell_type": "code",
   "execution_count": null,
   "outputs": [],
   "source": [],
   "metadata": {
    "collapsed": false,
    "pycharm": {
     "name": "#%%\n"
    }
   }
  },
  {
   "cell_type": "code",
   "execution_count": null,
   "outputs": [],
   "source": [],
   "metadata": {
    "collapsed": false,
    "pycharm": {
     "name": "#%%"
    }
   }
  }
 ],
 "metadata": {
  "kernelspec": {
   "display_name": "Python 3",
   "language": "python",
   "name": "python3"
  },
  "language_info": {
   "codemirror_mode": {
    "name": "ipython",
    "version": 2
   },
   "file_extension": ".py",
   "mimetype": "text/x-python",
   "name": "python",
   "nbconvert_exporter": "python",
   "pygments_lexer": "ipython2",
   "version": "2.7.6"
  }
 },
 "nbformat": 4,
 "nbformat_minor": 0
}