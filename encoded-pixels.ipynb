{
 "cells": [
  {
   "cell_type": "code",
   "execution_count": 1,
   "id": "global-baseball",
   "metadata": {
    "_cell_guid": "b1076dfc-b9ad-4769-8c92-a6c4dae69d19",
    "_uuid": "8f2839f25d086af736a60e9eeb907d3b93b6e0e5",
    "execution": {
     "iopub.execute_input": "2021-06-21T08:53:32.463217Z",
     "iopub.status.busy": "2021-06-21T08:53:32.462001Z",
     "iopub.status.idle": "2021-06-21T08:53:32.465046Z",
     "shell.execute_reply": "2021-06-21T08:53:32.465639Z",
     "shell.execute_reply.started": "2021-06-21T08:51:46.920462Z"
    },
    "papermill": {
     "duration": 0.017501,
     "end_time": "2021-06-21T08:53:32.465925",
     "exception": false,
     "start_time": "2021-06-21T08:53:32.448424",
     "status": "completed"
    },
    "tags": []
   },
   "outputs": [],
   "source": [
    "import numpy as np\n",
    "import pandas as pd\n",
    "import matplotlib.pyplot as plt"
   ]
  },
  {
   "cell_type": "code",
   "execution_count": 2,
   "id": "subtle-harbor",
   "metadata": {
    "execution": {
     "iopub.execute_input": "2021-06-21T08:53:32.484292Z",
     "iopub.status.busy": "2021-06-21T08:53:32.483674Z",
     "iopub.status.idle": "2021-06-21T08:53:32.508702Z",
     "shell.execute_reply": "2021-06-21T08:53:32.507161Z",
     "shell.execute_reply.started": "2021-06-21T08:48:45.835168Z"
    },
    "papermill": {
     "duration": 0.035104,
     "end_time": "2021-06-21T08:53:32.508872",
     "exception": false,
     "start_time": "2021-06-21T08:53:32.473768",
     "status": "completed"
    },
    "tags": []
   },
   "outputs": [
    {
     "data": {
      "text/plain": "                image_name      type  xmin  xmax  ymin  ymax\n0  0007Date_01_08_2019.jpg     other   285   368    61   278\n1  0013Date_01_08_2019.jpg  armature   187   550   101   253\n2  0016Date_01_08_2019.jpg  armature   172   327    13   360\n3  0019Date_01_08_2019.jpg  armature    19   267   162   237\n4  0019Date_01_08_2019.jpg  armature   309   548   300   376",
      "text/html": "<div>\n<style scoped>\n    .dataframe tbody tr th:only-of-type {\n        vertical-align: middle;\n    }\n\n    .dataframe tbody tr th {\n        vertical-align: top;\n    }\n\n    .dataframe thead th {\n        text-align: right;\n    }\n</style>\n<table border=\"1\" class=\"dataframe\">\n  <thead>\n    <tr style=\"text-align: right;\">\n      <th></th>\n      <th>image_name</th>\n      <th>type</th>\n      <th>xmin</th>\n      <th>xmax</th>\n      <th>ymin</th>\n      <th>ymax</th>\n    </tr>\n  </thead>\n  <tbody>\n    <tr>\n      <th>0</th>\n      <td>0007Date_01_08_2019.jpg</td>\n      <td>other</td>\n      <td>285</td>\n      <td>368</td>\n      <td>61</td>\n      <td>278</td>\n    </tr>\n    <tr>\n      <th>1</th>\n      <td>0013Date_01_08_2019.jpg</td>\n      <td>armature</td>\n      <td>187</td>\n      <td>550</td>\n      <td>101</td>\n      <td>253</td>\n    </tr>\n    <tr>\n      <th>2</th>\n      <td>0016Date_01_08_2019.jpg</td>\n      <td>armature</td>\n      <td>172</td>\n      <td>327</td>\n      <td>13</td>\n      <td>360</td>\n    </tr>\n    <tr>\n      <th>3</th>\n      <td>0019Date_01_08_2019.jpg</td>\n      <td>armature</td>\n      <td>19</td>\n      <td>267</td>\n      <td>162</td>\n      <td>237</td>\n    </tr>\n    <tr>\n      <th>4</th>\n      <td>0019Date_01_08_2019.jpg</td>\n      <td>armature</td>\n      <td>309</td>\n      <td>548</td>\n      <td>300</td>\n      <td>376</td>\n    </tr>\n  </tbody>\n</table>\n</div>"
     },
     "execution_count": 2,
     "metadata": {},
     "output_type": "execute_result"
    }
   ],
   "source": [
    "data = pd.read_csv('data/train.csv', index_col=0)\n",
    "data.head()"
   ]
  },
  {
   "cell_type": "code",
   "execution_count": 3,
   "id": "perceived-palestine",
   "metadata": {
    "execution": {
     "iopub.execute_input": "2021-06-21T08:53:32.531762Z",
     "iopub.status.busy": "2021-06-21T08:53:32.531048Z",
     "iopub.status.idle": "2021-06-21T08:53:32.532911Z",
     "shell.execute_reply": "2021-06-21T08:53:32.533495Z",
     "shell.execute_reply.started": "2021-06-21T08:49:56.005316Z"
    },
    "papermill": {
     "duration": 0.016985,
     "end_time": "2021-06-21T08:53:32.533685",
     "exception": false,
     "start_time": "2021-06-21T08:53:32.516700",
     "status": "completed"
    },
    "tags": []
   },
   "outputs": [],
   "source": [
    "def EncodedPixels_string(pixels):\n",
    "    EncodedPixels_s = ''\n",
    "    x = 0\n",
    "    w = 0\n",
    "    for i in range(len(pixels)):\n",
    "        if x==0:\n",
    "            if pixels[i]==1:\n",
    "                x = i\n",
    "                w += 1\n",
    "        else:\n",
    "            if pixels[i]==1:\n",
    "                w += 1\n",
    "            else:\n",
    "                EncodedPixels_s = EncodedPixels_s + str(x+1) + ' ' + str(w) + ' '\n",
    "                x = 0\n",
    "                w = 0\n",
    "                \n",
    "    return EncodedPixels_s"
   ]
  },
  {
   "cell_type": "code",
   "execution_count": 4,
   "id": "worse-coordinate",
   "metadata": {
    "execution": {
     "iopub.execute_input": "2021-06-21T08:53:32.552349Z",
     "iopub.status.busy": "2021-06-21T08:53:32.551722Z",
     "iopub.status.idle": "2021-06-21T08:53:32.559092Z",
     "shell.execute_reply": "2021-06-21T08:53:32.559665Z",
     "shell.execute_reply.started": "2021-06-21T08:49:56.244325Z"
    },
    "papermill": {
     "duration": 0.018323,
     "end_time": "2021-06-21T08:53:32.559842",
     "exception": false,
     "start_time": "2021-06-21T08:53:32.541519",
     "status": "completed"
    },
    "tags": []
   },
   "outputs": [],
   "source": [
    "def EncodedPixels(data, image_name, class_type, image_shape_x=704, image_shape_y=421):\n",
    "    \n",
    "    data_im = data[(data['image_name']==image_name) & (data['type']==class_type)]\n",
    "    \n",
    "    if len(data_im)==0:\n",
    "        print('Image or type not found')\n",
    "        \n",
    "    image_pixels = np.zeros((image_shape_x, image_shape_y))\n",
    "    \n",
    "    for k in range(len(data_im)):\n",
    "        xmin = data_im.iloc[k]['xmin']\n",
    "        xmax = data_im.iloc[k]['xmax'] + 1\n",
    "        ymin = data_im.iloc[k]['ymin']\n",
    "        ymax = data_im.iloc[k]['ymax'] + 1\n",
    "        image_pixels[xmin:xmax, ymin:ymax]=1\n",
    "\n",
    "    image_pixels = image_pixels.T.reshape(1, -1)[0]\n",
    "    EncodedPixels_s = EncodedPixels_string(image_pixels)\n",
    "    \n",
    "    return EncodedPixels_s"
   ]
  },
  {
   "cell_type": "code",
   "execution_count": 5,
   "id": "ranging-latitude",
   "metadata": {
    "execution": {
     "iopub.execute_input": "2021-06-21T08:53:32.578364Z",
     "iopub.status.busy": "2021-06-21T08:53:32.577672Z",
     "iopub.status.idle": "2021-06-21T08:53:32.840147Z",
     "shell.execute_reply": "2021-06-21T08:53:32.838970Z",
     "shell.execute_reply.started": "2021-06-21T08:52:43.878265Z"
    },
    "papermill": {
     "duration": 0.272784,
     "end_time": "2021-06-21T08:53:32.840378",
     "exception": false,
     "start_time": "2021-06-21T08:53:32.567594",
     "status": "completed"
    },
    "tags": []
   },
   "outputs": [],
   "source": [
    "result = EncodedPixels(data, '0019Date_01_08_2019.jpg', 'armature')"
   ]
  },
  {
   "cell_type": "code",
   "execution_count": 6,
   "id": "executed-promotion",
   "metadata": {
    "execution": {
     "iopub.execute_input": "2021-06-21T08:53:32.863317Z",
     "iopub.status.busy": "2021-06-21T08:53:32.862660Z",
     "iopub.status.idle": "2021-06-21T08:53:32.866978Z",
     "shell.execute_reply": "2021-06-21T08:53:32.866332Z",
     "shell.execute_reply.started": "2021-06-21T08:52:44.129601Z"
    },
    "papermill": {
     "duration": 0.017438,
     "end_time": "2021-06-21T08:53:32.867134",
     "exception": false,
     "start_time": "2021-06-21T08:53:32.849696",
     "status": "completed"
    },
    "tags": []
   },
   "outputs": [
    {
     "name": "stdout",
     "output_type": "stream",
     "text": [
      "114068 249 114772 249 115476 249 116180 249 116884 249 117588 249 118292 249 118996 249 119700 249 120404 249 121108 249 121812 249 122516 249 123220 249 123924 249 124628 249 125332 249 126036 249 126740 249 127444 249 128148 249 128852 249 129556 249 130260 249 130964 249 131668 249 132372 249 133076 249 133780 249 134484 249 135188 249 135892 249 136596 249 137300 249 138004 249 138708 249 139412 249 140116 249 140820 249 141524 249 142228 249 142932 249 143636 249 144340 249 145044 249 145748 249 146452 249 147156 249 147860 249 148564 249 149268 249 149972 249 150676 249 151380 249 152084 249 152788 249 153492 249 154196 249 154900 249 155604 249 156308 249 157012 249 157716 249 158420 249 159124 249 159828 249 160532 249 161236 249 161940 249 162644 249 163348 249 164052 249 164756 249 165460 249 166164 249 166868 249 211510 240 212214 240 212918 240 213622 240 214326 240 215030 240 215734 240 216438 240 217142 240 217846 240 218550 240 219254 240 219958 240 220662 240 221366 240 222070 240 222774 240 223478 240 224182 240 224886 240 225590 240 226294 240 226998 240 227702 240 228406 240 229110 240 229814 240 230518 240 231222 240 231926 240 232630 240 233334 240 234038 240 234742 240 235446 240 236150 240 236854 240 237558 240 238262 240 238966 240 239670 240 240374 240 241078 240 241782 240 242486 240 243190 240 243894 240 244598 240 245302 240 246006 240 246710 240 247414 240 248118 240 248822 240 249526 240 250230 240 250934 240 251638 240 252342 240 253046 240 253750 240 254454 240 255158 240 255862 240 256566 240 257270 240 257974 240 258678 240 259382 240 260086 240 260790 240 261494 240 262198 240 262902 240 263606 240 264310 240 265014 240 \n"
     ]
    }
   ],
   "source": [
    "print(result)"
   ]
  },
  {
   "cell_type": "code",
   "execution_count": 7,
   "id": "nutritional-cruise",
   "metadata": {
    "execution": {
     "iopub.execute_input": "2021-06-21T08:53:32.896569Z",
     "iopub.status.busy": "2021-06-21T08:53:32.895493Z",
     "iopub.status.idle": "2021-06-21T08:53:33.180557Z",
     "shell.execute_reply": "2021-06-21T08:53:33.181259Z",
     "shell.execute_reply.started": "2021-06-21T08:52:44.183404Z"
    },
    "papermill": {
     "duration": 0.303535,
     "end_time": "2021-06-21T08:53:33.181517",
     "exception": false,
     "start_time": "2021-06-21T08:53:32.877982",
     "status": "completed"
    },
    "tags": []
   },
   "outputs": [
    {
     "data": {
      "text/plain": "Text(0, 0.5, 'y')"
     },
     "execution_count": 7,
     "metadata": {},
     "output_type": "execute_result"
    },
    {
     "data": {
      "text/plain": "<Figure size 432x288 with 1 Axes>",
      "image/png": "[encoded data removed]"
     },
     "metadata": {
      "needs_background": "light"
     },
     "output_type": "display_data"
    }
   ],
   "source": [
    "# decode pixels\n",
    "image_shape_x = 704\n",
    "image_shape_y=421\n",
    "result = result.split(' ')\n",
    "image_pixels = np.zeros((image_shape_x, image_shape_y))\n",
    "for i in range(0, len(result)-1, 2):\n",
    "    y = int(result[i])//image_shape_x \n",
    "    x = int(result[i])%image_shape_x \n",
    "    w = int(result[i+1])\n",
    "    image_pixels[x:x+w, y]=1\n",
    "    \n",
    "plt.imshow(image_pixels.T)\n",
    "plt.xlabel('x')\n",
    "plt.ylabel('y')"
   ]
  },
  {
   "cell_type": "code",
   "execution_count": 7,
   "id": "closing-laundry",
   "metadata": {
    "papermill": {
     "duration": 0.010435,
     "end_time": "2021-06-21T08:53:33.207149",
     "exception": false,
     "start_time": "2021-06-21T08:53:33.196714",
     "status": "completed"
    },
    "tags": []
   },
   "outputs": [],
   "source": []
  },
  {
   "cell_type": "markdown",
   "source": [],
   "metadata": {
    "collapsed": false
   }
  }
 ],
 "metadata": {
  "kernelspec": {
   "display_name": "Python 3",
   "language": "python",
   "name": "python3"
  },
  "language_info": {
   "codemirror_mode": {
    "name": "ipython",
    "version": 3
   },
   "file_extension": ".py",
   "mimetype": "text/x-python",
   "name": "python",
   "nbconvert_exporter": "python",
   "pygments_lexer": "ipython3",
   "version": "3.7.9"
  },
  "papermill": {
   "default_parameters": {},
   "duration": 7.746124,
   "end_time": "2021-06-21T08:53:33.825988",
   "environment_variables": {},
   "exception": null,
   "input_path": "__notebook__.ipynb",
   "output_path": "__notebook__.ipynb",
   "parameters": {},
   "start_time": "2021-06-21T08:53:26.079864",
   "version": "2.3.2"
  }
 },
 "nbformat": 4,
 "nbformat_minor": 5
}